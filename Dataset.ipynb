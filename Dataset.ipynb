{
 "cells": [
  {
   "cell_type": "markdown",
   "metadata": {},
   "source": [
    "## SUPRATIM NAG"
   ]
  },
  {
   "cell_type": "markdown",
   "metadata": {},
   "source": [
    "### CSE-AIML/22/057 -- (DATASET FOR ML LAB)"
   ]
  },
  {
   "cell_type": "code",
   "execution_count": 2,
   "metadata": {},
   "outputs": [],
   "source": [
    "import pandas as pd"
   ]
  },
  {
   "cell_type": "code",
   "execution_count": 3,
   "metadata": {},
   "outputs": [],
   "source": [
    "file_path = \"C:\\\\Users\\\\SUPRATIM NAG\\\\OneDrive\\\\Documents\\\\ML\\\\Personal_Datasets\\\\Dataset.csv\"\n",
    "df=pd.read_csv(file_path)"
   ]
  },
  {
   "cell_type": "code",
   "execution_count": 6,
   "metadata": {},
   "outputs": [
    {
     "name": "stdout",
     "output_type": "stream",
     "text": [
      "<class 'pandas.core.frame.DataFrame'>\n",
      "RangeIndex: 100 entries, 0 to 99\n",
      "Data columns (total 11 columns):\n",
      " #   Column                 Non-Null Count  Dtype  \n",
      "---  ------                 --------------  -----  \n",
      " 0   Patient ID             100 non-null    int64  \n",
      " 1   Age                    100 non-null    int64  \n",
      " 2   Blood Pressure         100 non-null    int64  \n",
      " 3   Cholesterol Levels     100 non-null    int64  \n",
      " 4   Heart Rate             100 non-null    int64  \n",
      " 5   BMI                    100 non-null    float64\n",
      " 6   Diagnosis              100 non-null    object \n",
      " 7   Treatment Plan         100 non-null    object \n",
      " 8   Recovery Status        87 non-null     object \n",
      " 9   Medication Type        99 non-null     object \n",
      " 10  Follow-up Requirement  100 non-null    object \n",
      "dtypes: float64(1), int64(5), object(5)\n",
      "memory usage: 8.7+ KB\n"
     ]
    }
   ],
   "source": [
    "df.info()"
   ]
  }
 ],
 "metadata": {
  "kernelspec": {
   "display_name": "Python 3",
   "language": "python",
   "name": "python3"
  },
  "language_info": {
   "codemirror_mode": {
    "name": "ipython",
    "version": 3
   },
   "file_extension": ".py",
   "mimetype": "text/x-python",
   "name": "python",
   "nbconvert_exporter": "python",
   "pygments_lexer": "ipython3",
   "version": "3.11.3"
  }
 },
 "nbformat": 4,
 "nbformat_minor": 2
}
