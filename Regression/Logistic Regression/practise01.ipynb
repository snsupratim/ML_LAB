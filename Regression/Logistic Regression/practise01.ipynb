{
 "cells": [
  {
   "cell_type": "code",
   "execution_count": 16,
   "metadata": {},
   "outputs": [],
   "source": [
    "import pandas as pd\n",
    "\n",
    "# Load the dataset\n",
    "data = pd.read_csv(r\"C:\\Users\\SUPRATIM NAG\\OneDrive\\Documents\\ML\\Personal_Datasets\\Dataset.csv\")"
   ]
  },
  {
   "cell_type": "code",
   "execution_count": 26,
   "metadata": {},
   "outputs": [
    {
     "name": "stdout",
     "output_type": "stream",
     "text": [
      "['Hypertension with high cholesterol.' 'Pre-hypertension.'\n",
      " 'Type 2 Diabetes.' 'Heart Failure.' 'Overweight.' 'Obesity.' 'Normal.'\n",
      " 'Type 2 Diabetes Mellitus, Hypertension, High Cholesterol'\n",
      " 'Type 2 Diabetes Mellitus, Hypertension, High Cholesterol, Anxiety Disorder'\n",
      " 'Type 2 Diabetes Mellitus, Hypertension, High Cholesterol, Depression'\n",
      " 'Type 2 Diabetes Mellitus, Hypertension, High Cholesterol, Insomnia'\n",
      " 'Type 2 Diabetes Mellitus, Hypertension, High Cholesterol, Arthritis'\n",
      " 'Type 2 Diabetes Mellitus, Hypertension, High Cholesterol, Chronic Kidney Disease'\n",
      " 'Hypertension, High Cholesterol.' 'Diabetes, High Blood Pressure.'\n",
      " 'Obesity, Hypertension.' 'Congestive Heart Failure, High Cholesterol.'\n",
      " 'Diabetes, Congestive Heart Failure.' 'Type 2 Diabetes'\n",
      " 'Anxiety Disorder' 'Coronary Artery Disease' 'Hypertension'\n",
      " 'Hypothyroidism' 'Obesity' 'Depression' 'Asthma' 'Arthritis'\n",
      " 'Chronic Kidney Disease' 'Dementia' 'Migraine' 'Cancer' 'Insomnia'\n",
      " 'Epilepsy' 'Diabetes Mellitus' 'Stroke' 'Fibromyalgia'\n",
      " 'Type 2 Diabetes mellitus. Patient presents with high blood sugar levels and increased waist circumference.'\n",
      " 'Hypertension and Dyslipidemia. Patient presents with high blood pressure and high cholesterol levels.'\n",
      " 'Major Depression. Patient presents with symptoms of low mood, anhedonia, and insomnia.'\n",
      " 'Anxiety Disorder. Patient presents with symptoms of excessive anxiety and worry.'\n",
      " 'Asthma. Patient presents with shortness of breath and wheezing.'\n",
      " 'Gastroesophageal Reflux Disease (GERD). Patient presents with symptoms of heartburn and regurgitation.'\n",
      " 'Osteoarthritis. Patient presents with joint pain and stiffness.'\n",
      " 'Congestive Heart Failure. Patient presents with symptoms of shortness of breath, fatigue, and edema.'\n",
      " 'Chronic Obstructive Pulmonary Disease (COPD). Patient presents with symptoms of coughing and shortness of breath.'\n",
      " 'Allergic Rhinitis. Patient presents with symptoms of sneezing, runny nose, and itchy eyes.'\n",
      " 'Panic Disorder. Patient presents with symptoms of panic attacks and fear of future attacks.'\n",
      " \"Alzheimer's Disease. Patient presents with symptoms of memory loss, confusion, and behavior changes.\"\n",
      " 'Hypertension, High Cholesterol' 'Pre-diabetes, Hypertension'\n",
      " 'Type 2 Diabetes, High Cholesterol' 'Obesity, High Cholesterol'\n",
      " 'Coronary Artery Disease, High Cholesterol'\n",
      " 'Hyperlipidemia, Pre-diabetes' 'High Cholesterol, Obesity'\n",
      " 'Type 2 Diabetes, Coronary Artery Disease'\n",
      " 'High Cholesterol, Hypertension' 'High Cholesterol, Pre-diabetes'\n",
      " 'Type 2 Diabetes, Obesity' 'High Cholesterol, Coronary Artery Disease'\n",
      " 'Type 2 Diabetes Mellitus' 'Pre-hypertension'\n",
      " 'Obesity-related Hypertension' 'Hyperlipidemia'\n",
      " 'Hypertension, Type 2 Diabetes Mellitus' 'Heart Failure'\n",
      " 'Essential Tremor' 'Anemia' 'Gastritis' 'Glaucoma' 'Diabetic Neuropathy'\n",
      " 'Hay Fever' 'High Cholesterol and Pre-Hypertension'\n",
      " 'Type 2 Diabetes and Hypertension'\n",
      " 'Coronary Artery Disease and Hypertension'\n",
      " 'Heart Failure and High Cholesterol' 'Osteoporosis' 'Anxiety'\n",
      " 'Diabetes Type 2 and Hypertension' 'Obesity and Hypertension'\n",
      " 'Osteoarthritis' 'Major Depressive Disorder']\n"
     ]
    }
   ],
   "source": [
    "# Clean column names to remove any leading/trailing spaces\n",
    "data.columns = data.columns.str.strip()\n",
    "\n",
    "# Check the unique values in the 'Diagnosis' column\n",
    "print(data['Diagnosis'].unique())"
   ]
  },
  {
   "cell_type": "code",
   "execution_count": 58,
   "metadata": {},
   "outputs": [],
   "source": [
    "# Select numerical columns and the 'Diagnosis' column\n",
    "numerical_data = data[['Age', 'Blood Pressure', 'Cholesterol Levels', 'Heart Rate', 'BMI', 'Diagnosis']]"
   ]
  },
  {
   "cell_type": "code",
   "execution_count": 59,
   "metadata": {},
   "outputs": [
    {
     "name": "stderr",
     "output_type": "stream",
     "text": [
      "C:\\Users\\SUPRATIM NAG\\AppData\\Local\\Temp\\ipykernel_5044\\3889563454.py:3: SettingWithCopyWarning: \n",
      "A value is trying to be set on a copy of a slice from a DataFrame.\n",
      "Try using .loc[row_indexer,col_indexer] = value instead\n",
      "\n",
      "See the caveats in the documentation: https://pandas.pydata.org/pandas-docs/stable/user_guide/indexing.html#returning-a-view-versus-a-copy\n",
      "  numerical_data['Diagnosis'] = numerical_data['Diagnosis'].apply(\n"
     ]
    }
   ],
   "source": [
    "# Convert the target variable to binary\n",
    "# Here we assume you want to mark 'Hypertension'  as 1, otherwise 0\n",
    "# 'Hyperlipidemia' in x\n",
    "numerical_data['Diagnosis'] = numerical_data['Diagnosis'].apply(\n",
    "    lambda x: 1 if 'Hypertension' in x  else 0\n",
    ")"
   ]
  },
  {
   "cell_type": "code",
   "execution_count": 60,
   "metadata": {},
   "outputs": [
    {
     "name": "stdout",
     "output_type": "stream",
     "text": [
      "Diagnosis\n",
      "0    69\n",
      "1    31\n",
      "Name: count, dtype: int64\n"
     ]
    }
   ],
   "source": [
    " #Verify the conversion\n",
    "print(numerical_data['Diagnosis'].value_counts())"
   ]
  },
  {
   "cell_type": "code",
   "execution_count": 61,
   "metadata": {},
   "outputs": [],
   "source": [
    "X = numerical_data.drop('Diagnosis', axis=1)\n",
    "y = numerical_data['Diagnosis']"
   ]
  },
  {
   "cell_type": "code",
   "execution_count": 62,
   "metadata": {},
   "outputs": [
    {
     "name": "stdout",
     "output_type": "stream",
     "text": [
      "Accuracy: 0.75\n",
      "Confusion Matrix:\n",
      "[[13  3]\n",
      " [ 2  2]]\n"
     ]
    }
   ],
   "source": [
    "from sklearn.model_selection import train_test_split\n",
    "from sklearn.linear_model import LogisticRegression\n",
    "from sklearn.metrics import accuracy_score, confusion_matrix\n",
    "\n",
    "# Split the data into training and testing sets\n",
    "X_train, X_test, y_train, y_test = train_test_split(X, y, test_size=0.2, random_state=42)\n",
    "\n",
    "# Create and fit the model\n",
    "model = LogisticRegression()\n",
    "model.fit(X_train, y_train)\n",
    "\n",
    "# Make predictions\n",
    "y_pred = model.predict(X_test)\n",
    "\n",
    "# Evaluate the model\n",
    "accuracy = accuracy_score(y_test, y_pred)\n",
    "conf_matrix = confusion_matrix(y_test, y_pred)\n",
    "\n",
    "print(f'Accuracy: {accuracy}')\n",
    "print(f'Confusion Matrix:\\n{conf_matrix}')"
   ]
  }
 ],
 "metadata": {
  "kernelspec": {
   "display_name": "Python 3",
   "language": "python",
   "name": "python3"
  },
  "language_info": {
   "codemirror_mode": {
    "name": "ipython",
    "version": 3
   },
   "file_extension": ".py",
   "mimetype": "text/x-python",
   "name": "python",
   "nbconvert_exporter": "python",
   "pygments_lexer": "ipython3",
   "version": "3.11.3"
  }
 },
 "nbformat": 4,
 "nbformat_minor": 2
}
